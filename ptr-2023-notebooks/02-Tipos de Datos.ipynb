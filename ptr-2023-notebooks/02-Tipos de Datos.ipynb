{
 "cells": [
  {
   "cell_type": "markdown",
   "metadata": {},
   "source": [
    "### Variables y Tipos de Datos en C#\n",
    "\n",
    "El tipo de una variable especifica la \"forma\" que tendra la misma en memoria, es decir su tamaño y su disposicion.\n",
    "Por ejemplo, puede haber variables simples como un numero entero que se representen directamente en memoria (convertidos a binario), pero tambien habra otras mas  como el tipo **Complex** que contiene partes independientes cuya disposicion en memoria no seria tan directa.\n",
    "\n",
    "Queremos representar el valor 20 y guardarlo en una variable entera llamada numero\n",
    "\n",
    "Cuando declaramos la variable, se reserva memoria pero la misma contiene \"basura\" (pensemos que la memoria se usa para muchos procesos, y esta memoria podria contener datos de un proceso previo y por supuesto no tenemos idea de lo que puede representar)\n",
    "\n",
    "<pre>\n",
    "                7                    0  \n",
    "              +-------------------------+\n",
    "  numero -->  | 1  0  1  1  0  1  0  0  |\n",
    "              .-------------------------.\n",
    "              | 0  0  0  1  0  0  0  1  |\n",
    "              .-------------------------.\n",
    "              | 0  0  1  0  0  0  0  0  |\n",
    "              .-------------------------.\n",
    "              | 1  0  0  0  0  0  1  0  |\n",
    "              +-------------------------+\n",
    "</pre>              \n",
    "\n",
    "Aca vemos que la memoria a la que apunta numero contiene el valor binario (la forma de leerlo es desde el ultimo lugar hacia el primero)\n",
    "\n",
    "1000_0010_0010_0000_0001_0001_1011_0100\n",
    "\n",
    "Sin importar el numero que represente, claramente es un valor que no es al menos la representacion de CERO, si asi fuera al menos podriamos confiar en ese contenido.\n",
    "\n",
    "Por eso para asegurarnos que el contenido random se elimina y con esto asegurar que nuestro programa no falle, tenemos que ajustar un valor inicial a esta variable\n",
    "\n",
    "```csharp\n",
    "numero = 20 ;\n",
    "```\n",
    "\n",
    "<pre>\n",
    "                7                    0  \n",
    "              +-------------------------+\n",
    "  numero -->  | 0  0  0  1  0  1  0  0  |\n",
    "              .-------------------------.\n",
    "              | 0  0  0  0  0  0  0  0  |\n",
    "              .-------------------------.\n",
    "              | 0  0  0  0  0  0  0  0  |\n",
    "              .-------------------------.\n",
    "              | 0  0  0  0  0  0  0  0  |\n",
    "              +-------------------------+\n",
    "</pre>              \n",
    "\n",
    "Ahora podemos seguir sin problemas con el resto del codigo.\n",
    "\n",
    "**Aclaracion** para que el compilador \"quede tranquilo\" o sea que no nos de un error de compilacion, no es necesario que el valor que pongamos sea el que vamos a necesitar...podriamos haber hecho que numero fuera igual a 0, 1024 o -12345678, lo unico que busca el compilador es asegurarse que la variable tiene un contenido que nosotros conocemos o que al menos somos responsables de dicho contenido.\n"
   ]
  },
  {
   "cell_type": "code",
   "execution_count": null,
   "metadata": {
    "dotnet_interactive": {
     "language": "csharp"
    },
    "vscode": {
     "languageId": "polyglot-notebook"
    }
   },
   "outputs": [],
   "source": [
    "//  esto es un comentario!!!\n",
    "//  int es el tipo de datos que se asocia a un numero entero\n",
    "//\n",
    "int numero = 20;\n",
    "\n",
    "Console.WriteLine(numero);\n",
    "\n",
    "Console.WriteLine(int.MaxValue);\n",
    "Console.WriteLine(int.MinValue);\n"
   ]
  },
  {
   "cell_type": "markdown",
   "metadata": {},
   "source": [
    "Deberiamos usar el tipo de dato correcto, dependiendo del problema que tenemos que encarar.\n",
    "\n",
    "#### Ejemplos\n",
    "\n",
    "- para representar la edad de una persona no tiene sentido usar un tipo que permita numeros negativos (evitamos errores)\n",
    "- si necesitamos contar la cantidad de milisegundos desde una fecha tendriamos que pensar en un tipo que represente valores enteros muy grandes, positivos o negativos segun si queremos fechas hacia atras\n",
    "- pera representar numeros irracionales como pi o e necesitamos tipos que admitan decimales pero tal vez que tengan una buena precision (muchos valores exactos luego de la coma)\n",
    "- para valores monetarios, lo mas comun es que se usen numeros con buena precision y que puedan representar decimales sin perdida de exactitud durante las operaciones\n",
    "- para representar distancias, si son astronomicas usariamos un numero con exponente cuyo valor maximo sea posiblemente el mayor, para distancias terrestres podriamos usar algo parecido pero que no tenga tanto alcance"
   ]
  },
  {
   "cell_type": "code",
   "execution_count": null,
   "metadata": {
    "dotnet_interactive": {
     "language": "csharp"
    },
    "vscode": {
     "languageId": "polyglot-notebook"
    }
   },
   "outputs": [],
   "source": [
    "using System.Globalization;\n",
    "\n",
    "//  solo valores positivos hasta 255\n",
    "//\n",
    "byte edad = 55;\n",
    "\n",
    "//  -128...+127\n",
    "//\n",
    "sbyte edad1 = -128;\n",
    "\n",
    "Console.WriteLine($\"Tengo {edad} años\");\n",
    "\n",
    "//  01/01/1970 aproximados\n",
    "//  1.639.872.000 segundos\n",
    "//  Podemos usar separadores _ para agrupar digitos segun nuestra conveniencia\n",
    "//\n",
    "long milisegundosDesde = 1_639_872_000_000;\n",
    "\n",
    "Console.WriteLine($\"Hay {milisegundosDesde:N0} milisegundos desde 01/01/1970\");\n",
    "\n",
    "//  entero largo sin signo --> por ejemplo si siempre contamos tiempos posteriores a la fecha inicial\n",
    "//\n",
    "ulong milisegundosDesde1 = ulong.MaxValue ;\n",
    "\n",
    "Console.WriteLine(CultureInfo.CurrentCulture);\n",
    "\n",
    "Console.WriteLine($\"Hay {milisegundosDesde1:N0} milisegundos desde 01/01/1970\");\n",
    "\n",
    "CultureInfo.CurrentCulture = CultureInfo.GetCultureInfo(\"es-AR\");\n",
    "\n",
    "Console.WriteLine($\"Hay {milisegundosDesde1:N0} milisegundos desde 01/01/1970\");\n",
    "\n",
    "//  https://docs.microsoft.com/en-us/dotnet/standard/base-types/standard-numeric-format-strings\n",
    "//  \n",
    "//  observar que se muestra con el separador de miles que corresponde a la cultura actual!\n",
    "\n",
    "//  como hacemos para representar solo valores positivos enteros o long? o negativos en byte?\n"
   ]
  },
  {
   "cell_type": "markdown",
   "metadata": {},
   "source": [
    "Tenemos 3 tipos de datos con los que podemos representar valores decimales\n",
    "\n",
    "- decimal - 16 bytes (128 bits)\n",
    "- float - 4 bytes (32 bits)\n",
    "- double - 8 bytes (64 bits)\n",
    "\n",
    "Las diferencias son los rangos de valores que podemos almacenar y tambien el tipo de representacion si se hace con exponente o sin exponente\n",
    "\n",
    "Como basicamente los 3 numeros se representan de la misma manera, el compilador no puede entender a que tipo nos estamos refiriendo si escribimos 1.23 por lo tanto asume que es **double**\n",
    "\n",
    "Si queremos forzar a que el valor sea float o decimal tenemos que usar sufijos"
   ]
  },
  {
   "cell_type": "code",
   "execution_count": null,
   "metadata": {
    "dotnet_interactive": {
     "language": "csharp"
    },
    "vscode": {
     "languageId": "polyglot-notebook"
    }
   },
   "outputs": [],
   "source": [
    "decimal pi = 3.141592654m;\n",
    "\n",
    "float pi_float = 3.141592654F;    //  observar que en el resultado el valor ya es inexacto\n",
    "\n",
    "double pi_double = 3.141592654;\n",
    "\n",
    "Console.WriteLine($\"Valor de PI = {pi} {pi_float} {pi_double}\");\n",
    "\n",
    "decimal maximo = decimal.MaxValue;\n",
    "\n",
    "Console.WriteLine($\"{maximo:N0}\");\n",
    "\n",
    "//  79228162514264337593543950335 es el max value de decimal\n",
    "//  a ver como se representa en double\n",
    "//\n",
    "double xx = .79228162514264337593543950335E+28;\n",
    "\n",
    "Console.WriteLine(xx);\n",
    "\n",
    "//  observar que la coma decimal se coloca como corresponde a nuestra cultura\n",
    "\n",
    "float distanciaSol = 299_985 * 8 * 60 ;\n",
    "\n",
    "Console.WriteLine($\"La distancia al sol en kilometros: {distanciaSol:E}\");\n",
    "\n"
   ]
  },
  {
   "cell_type": "markdown",
   "metadata": {},
   "source": [
    "En general de los tipos que representan valores podemos establecer cuales son los maximos y minimos que podemos representar\n",
    "\n",
    "Vamos a probar algunos que representan numeros\n",
    "\n",
    "Tambien veremos que algunas operaciones con double/float dan diferentes resultados que si las hacemos con valores enteros"
   ]
  },
  {
   "cell_type": "code",
   "execution_count": null,
   "metadata": {
    "dotnet_interactive": {
     "language": "csharp"
    },
    "vscode": {
     "languageId": "polyglot-notebook"
    }
   },
   "outputs": [],
   "source": [
    "//  maximo double\n",
    "//\n",
    "//  double pepe = 1.23;\n",
    "//\n",
    "//  ERROR porque MinValue se aplica al TIPO double y no a la INSTANCIA pepe\n",
    "//\n",
    "//  Console.WriteLine($\"El valor maximo para double es {pepe.MinValue}\");\n",
    "\n",
    "Console.WriteLine($\"El valor maximo para double es {double.MinValue}\");\n",
    "Console.WriteLine($\"El valor maximo para double es {double.MaxValue}\");\n",
    "\n",
    "//  probar otros valores y valores especiales\n",
    "//\n",
    "Console.WriteLine($\"Que valor resultara?? {double.MaxValue * double.MaxValue}\");\n",
    "Console.WriteLine($\"Que valor resultara?? {double.PositiveInfinity / double.PositiveInfinity}\");\n",
    "Console.WriteLine($\"Que valor resultara?? {double.MaxValue / 0}\");\n",
    "\n",
    "//  probar valores integrales\n",
    "//  \n",
    "int cero = 0;\n",
    "Console.WriteLine($\"Que valor resultara?? {12 / cero}\");\n"
   ]
  },
  {
   "cell_type": "markdown",
   "metadata": {},
   "source": [
    "<div \n",
    "  style=\"position: relative; padding: 1rem 1rem; margin-bottom: 1rem;\n",
    "         border: 1px solid transparent; border-radius: 0.25rem; color: #055160;\n",
    "         background-color: #cff4fc; border-color: #b6effb; width: 90%\">\n",
    "  La division por cero en el caso de double/float no produce un error ya que la representacion binaria de estos tipos permiten expresar valores especiales como +/- infinito o una operacion indefinida con <strong>NaN</strong>\n",
    "</div>"
   ]
  },
  {
   "cell_type": "markdown",
   "metadata": {},
   "source": [
    "Algunas operaciones con valores enteros pueden ser engañosas\n",
    "\n",
    "Si sumamos dos valores muy grandes que no \"entran\" en la variable que recibe el resultado vamos a tener una fuente segura de errores\n"
   ]
  },
  {
   "cell_type": "code",
   "execution_count": null,
   "metadata": {
    "dotnet_interactive": {
     "language": "csharp"
    },
    "vscode": {
     "languageId": "polyglot-notebook"
    }
   },
   "outputs": [],
   "source": [
    "//  la palabra clave int es un ALIAS en C# de System.Int32 \n",
    "//  pero el tipo REAL que existe en la libreria de NET es System.Int32\n",
    "//\n",
    "int numeroGrande = System.Int32.MaxValue;\n",
    "long resultado = numeroGrande + numeroGrande;\n",
    "\n",
    "Console.WriteLine($\"El resultado es {resultado}\");\n",
    "\n",
    "//  esto se denomina overflow (una operacion que deberia ser positiva da resultados negativos)\n",
    "//  puede ocurrir sin que nos demos cuenta\n",
    "\n",
    "long resultadoChequeado =checked(numeroGrande + numeroGrande);\n",
    "\n",
    "Console.WriteLine($\"El resultado chequeado es {resultadoChequeado}\");\n",
    "\n",
    "checked \n",
    "{ \n",
    "  int resultadoChequeado = unchecked(numeroGrande + numeroGrande) ;\n",
    "\n",
    "  Console.WriteLine($\"El resultado no-chequeado es {resultadoChequeado}\");\n",
    "\n",
    "  long xxx = numeroGrande * 10;\n",
    "\n",
    "  Console.WriteLine($\"El resultado chequeado es {xxx}\");\n",
    "}\n",
    "\n",
    "//  aca vemos una declaracion de variable en un bloque {}\n",
    "//  un bloque implica un limite en la declaracion de variables, por ejemplo\n",
    "//  y en este caso un limite de VALIDACION de overflow\n"
   ]
  },
  {
   "cell_type": "markdown",
   "metadata": {},
   "source": [
    "Hay dos tipos de datos basicos que son **char** y **boolean**. Del segundo hablaremos mas adelante, pero por ahora digamos que una variable boolean solo admite dos valores, true y false. Estos valores en general van a representar el estado final de un proceso o tarea, o cualquier condicion logica como por ejemplo \"el usuario es mayor de edad?\"\n",
    "\n",
    "Respecto a char, representa un unico caracter Unicode y se representa por comillas simples. Podemos representar cualquier caracter del standard, incluso varios de los extendidos como los emojis.\n",
    "\n",
    "El tamaño de **System.Char** es de 16 bits por lo tanto los caracteres que constan de multiples partes no pueden representarse con una unica variable y tenemos que convertirlos desde su representacion original en UTF-32\n",
    "\n",
    "[Unicode characters](https://www.utf8-chartable.de/)\n",
    "\n",
    "[Emojipedia](https://emojipedia.org/)"
   ]
  },
  {
   "cell_type": "code",
   "execution_count": null,
   "metadata": {
    "dotnet_interactive": {
     "language": "csharp"
    },
    "vscode": {
     "languageId": "polyglot-notebook"
    }
   },
   "outputs": [],
   "source": [
    "\n",
    "char letraE = 'E';        //  caracter normal\n",
    "\n",
    "char letraE2 = '\\x45';    //  si es en hexadecimal\n",
    "\n",
    "char letraAleph = '\\u05d0';   //  valor unicode para la letra aleph del alfabeto hebreo\n",
    "\n",
    "char emoji = '\\u26a1';   //  valor unicode para el emoji del rayo\n",
    "\n",
    "\n",
    "Console.WriteLine(letraE);\n",
    "Console.WriteLine(letraE2);\n",
    "Console.WriteLine(letraAleph);\n",
    "Console.WriteLine(emoji);\n",
    "\n",
    "//  hay emojis que no \"entran\" en un char...\n",
    "//  consultar --> emojipedia\n",
    "//\n",
    "Console.WriteLine(char.ConvertFromUtf32 (0x1F7E2));\n",
    "Console.WriteLine(System.Char.ConvertFromUtf32 (0x1F609));\n",
    "Console.WriteLine(System.Char.ConvertFromUtf32 (0x1F47D));\n",
    " "
   ]
  },
  {
   "cell_type": "markdown",
   "metadata": {},
   "source": []
  },
  {
   "cell_type": "code",
   "execution_count": null,
   "metadata": {
    "dotnet_interactive": {
     "language": "csharp"
    },
    "polyglot_notebook": {
     "kernelName": "csharp"
    },
    "vscode": {
     "languageId": "polyglot-notebook"
    }
   },
   "outputs": [],
   "source": [
    "string nombre1 = \"abc\";\n",
    "string nombre2 = \"ábc\";\n",
    "\n",
    "if (nombre1 == nombre2)\n",
    "  Console.WriteLine(\"iguales\");\n",
    "else\n",
    "  Console.WriteLine(\"diferentes\");\n"
   ]
  },
  {
   "cell_type": "markdown",
   "metadata": {},
   "source": []
  },
  {
   "cell_type": "code",
   "execution_count": 19,
   "metadata": {
    "dotnet_interactive": {
     "language": "csharp"
    },
    "polyglot_notebook": {
     "kernelName": "csharp"
    },
    "vscode": {
     "languageId": "polyglot-notebook"
    }
   },
   "outputs": [
    {
     "name": "stdout",
     "output_type": "stream",
     "text": [
      "Hola, Mundo!! 0 07/2/23 5/25/1810 12:00:00 AM\r\n"
     ]
    }
   ],
   "source": [
    "string resultado = \"Hola, Mundo!!\"; //  new ('=', 50);  // new(\"Hola, Mundo!!\"); \n",
    "\n",
    "int x = new();  // = default =0\n",
    "\n",
    "\n",
    "DateTime fecha = new (2023, 2, 7);\n",
    "var fecha1 = new DateTime(1810, 5, 25);\n",
    "\n",
    "Console.WriteLine($\"{resultado} {x} {fecha:dd/M/yy} {fecha1}\");\n"
   ]
  },
  {
   "cell_type": "markdown",
   "metadata": {},
   "source": [
    "Investigamos algunos tamaños de tipos de datos en .NET, el tamaño que nos aparece esta dato en BYTES\n",
    "\n",
    "Podemos ver que el tipo **char** ocupa 2 bytes (16 bits) o sea que podemos representar 65536 caracteres, lo que pareceria suficiente para Unicode (UTF-16) sin embargo hay bloques de codigos Unicode que no pueden representarse con 16 bits y necesitan de 32 (UTF-32) por ejemplo algunos de los emojis que vimos en el ejemplo previo."
   ]
  },
  {
   "cell_type": "code",
   "execution_count": null,
   "metadata": {
    "dotnet_interactive": {
     "language": "csharp"
    },
    "vscode": {
     "languageId": "polyglot-notebook"
    }
   },
   "outputs": [],
   "source": [
    "\n",
    "Console.WriteLine($\"{sizeof(long)}\");\n",
    "\n",
    "Console.WriteLine($\"{sizeof(decimal)}\");\n",
    "\n",
    "Console.WriteLine($\"{sizeof(char)}\");\n"
   ]
  },
  {
   "cell_type": "markdown",
   "metadata": {},
   "source": [
    "#### El tipo string\n",
    "\n",
    "Este tipo de datos es uno de los mas simples y complejos a la vez. Utilizarlo es tan sencillo como encerrar un texto en comillas dobles, sin embargo la existencia de una cantidad enorme de grafemas o simbolos de escritura en las diferentes lenguas (culturas) del planeta hacen que el almacenamiento y procesamiento de texto sea muy complejo.\n",
    "\n",
    "Nosotros vamos a centrarnos en el uso de cadenas de texto simples en nuestro idioma español, en .NET no esta el concepto de \"idioma\" (solamente) sino el de \"cultura\" ya que abarca ademas del lenguaje en si, diferentes detalles como por ejemplo los nombres de los meses, el calendario que se utiliza, signos de puntuacion y separadores, moneda, etc.\n",
    "\n",
    "Podemos encontrar algunas referencias interesantes:\n",
    "\n",
    "[Tags de lenguajes usado en internet](https://en.wikipedia.org/wiki/IETF_language_tag)\n",
    "\n",
    "[ISO 3166-1 con los nombres de los paises](https://en.wikipedia.org/wiki/ISO_3166-1)\n",
    "\n",
    "[ISO 15924 codigos para la representacion de nombres de sistemas de escritura](https://en.wikipedia.org/wiki/ISO_15924)\n",
    "\n",
    "[Localization and Internationalization for JS](https://www.localeplanet.com/index.html)\n",
    "\n",
    "[Globalization y CultureInfo en C#](https://learn.microsoft.com/en-us/dotnet/api/system.globalization.cultureinfo.name?view=net-8.0)\n",
    "\n",
    "[Language Tags en Windows](https://learn.microsoft.com/en-us/openspecs/windows_protocols/ms-lcid/a9eac961-e77d-41a6-90a5-ce1a8b0cdb9c)\n",
    "\n",
    "[RFC que define los tags](https://www.rfc-editor.org/rfc/rfc5646.txt)\n"
   ]
  },
  {
   "cell_type": "code",
   "execution_count": null,
   "metadata": {
    "dotnet_interactive": {
     "language": "csharp"
    },
    "polyglot_notebook": {
     "kernelName": "csharp"
    },
    "vscode": {
     "languageId": "polyglot-notebook"
    }
   },
   "outputs": [],
   "source": []
  },
  {
   "cell_type": "markdown",
   "metadata": {},
   "source": [
    "Tenemos tambien tipos complejos y enteros \"grandes\" que en realidad significan enteros que pueden alcanzar el tamaño disponible de memoria!\n",
    "\n"
   ]
  },
  {
   "cell_type": "code",
   "execution_count": null,
   "metadata": {
    "dotnet_interactive": {
     "language": "csharp"
    },
    "polyglot_notebook": {
     "kernelName": "csharp"
    },
    "vscode": {
     "languageId": "polyglot-notebook"
    }
   },
   "outputs": [],
   "source": [
    "\n",
    "using System.Numerics;\n",
    "\n",
    "\n",
    "Complex c1 = new (12.3, 25.4);\n",
    "\n",
    "Console.WriteLine($\"{c1.Imaginary} {c1.Real}\");\n",
    "\n",
    "Int128 xx = Int128.MaxValue;\n",
    "\n"
   ]
  }
 ],
 "metadata": {
  "kernelspec": {
   "display_name": ".NET (C#)",
   "language": "C#",
   "name": ".net-csharp"
  },
  "language_info": {
   "name": "C#"
  }
 },
 "nbformat": 4,
 "nbformat_minor": 2
}
