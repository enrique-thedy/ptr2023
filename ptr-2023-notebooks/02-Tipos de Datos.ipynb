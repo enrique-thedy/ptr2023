{
 "cells": [
  {
   "cell_type": "markdown",
   "metadata": {},
   "source": [
    "### Variables y Tipos de Datos en C#\n",
    "\n",
    "El tipo de una variable especifica la \"forma\" que tendra la misma en memoria, es decir su tamaño y su disposicion.\n",
    "Por ejemplo, puede haber variables simples como un numero entero que se representen directamente en memoria (convertidos a binario), pero tambien habra otras mas  como el tipo **Complex** que contiene partes independientes cuya disposicion en memoria no seria tan directa.\n",
    "\n",
    "Queremos representar el valor 20 y guardarlo en una variable entera llamada numero\n",
    "\n",
    "Cuando declaramos la variable, se reserva memoria pero la misma contiene \"basura\" (pensemos que la memoria se usa para muchos procesos, y esta memoria podria contener datos de un proceso previo y por supuesto no tenemos idea de lo que puede representar)\n",
    "\n",
    "<pre>\n",
    "                7                    0  \n",
    "              +-------------------------+\n",
    "  numero -->  | 1  0  1  1  0  1  0  0  |\n",
    "              .-------------------------.\n",
    "              | 0  0  0  1  0  0  0  1  |\n",
    "              .-------------------------.\n",
    "              | 0  0  1  0  0  0  0  0  |\n",
    "              .-------------------------.\n",
    "              | 1  0  0  0  0  0  1  0  |\n",
    "              +-------------------------+\n",
    "</pre>              \n",
    "\n",
    "Aca vemos que la memoria a la que apunta numero contiene el valor binario (la forma de leerlo es desde el ultimo lugar hacia el primero)\n",
    "\n",
    "1000_0010_0010_0000_0001_0001_1011_0100\n",
    "\n",
    "Sin importar el numero que represente, claramente es un valor que no es al menos la representacion de CERO, si asi fuera al menos podriamos confiar en ese contenido.\n",
    "\n",
    "Por eso para asegurarnos que el contenido random se elimina y con esto asegurar que nuestro programa no falle, tenemos que ajustar un valor inicial a esta variable\n",
    "\n",
    "```csharp\n",
    "numero = 20 ;\n",
    "```\n",
    "\n",
    "<pre>\n",
    "                7                    0  \n",
    "              +-------------------------+\n",
    "  numero -->  | 0  0  0  1  0  1  0  0  |\n",
    "              .-------------------------.\n",
    "              | 0  0  0  0  0  0  0  0  |\n",
    "              .-------------------------.\n",
    "              | 0  0  0  0  0  0  0  0  |\n",
    "              .-------------------------.\n",
    "              | 0  0  0  0  0  0  0  0  |\n",
    "              +-------------------------+\n",
    "</pre>              \n",
    "\n",
    "Ahora podemos seguir sin problemas con el resto del codigo.\n",
    "\n",
    "**Aclaracion** para que el compilador \"quede tranquilo\" o sea que no nos de un error de compilacion, no es necesario que el valor que pongamos sea el que vamos a necesitar...podriamos haber hecho que numero fuera igual a 0, 1024 o -12345678, lo unico que busca el compilador es asegurarse que la variable tiene un contenido que nosotros conocemos o que al menos somos responsables de dicho contenido.\n"
   ]
  },
  {
   "cell_type": "code",
   "execution_count": null,
   "metadata": {
    "dotnet_interactive": {
     "language": "csharp"
    },
    "vscode": {
     "languageId": "polyglot-notebook"
    }
   },
   "outputs": [],
   "source": [
    "//  esto es un comentario!!!\n",
    "//  int es el tipo de datos que se asocia a un numero entero\n",
    "//\n",
    "int numero = 20;\n",
    "\n",
    "Console.WriteLine(numero);\n",
    "\n",
    "Console.WriteLine(int.MaxValue);\n",
    "Console.WriteLine(int.MinValue);\n"
   ]
  },
  {
   "cell_type": "markdown",
   "metadata": {},
   "source": [
    "Deberiamos usar el tipo de dato correcto, dependiendo del problema que tenemos que encarar.\n",
    "\n",
    "##### Ejemplos\n",
    "\n",
    "- para representar la edad de una persona no tiene sentido usar un tipo que permita numeros negativos (evitamos errores)\n",
    "- si necesitamos contar la cantidad de milisegundos desde una fecha tendriamos que pensar en un tipo que represente valores enteros muy grandes, positivos o negativos segun si queremos fechas hacia atras\n",
    "- pera representar numeros irracionales como pi o e necesitamos tipos que admitan decimales pero tal vez que tengan una buena precision (muchos valores exactos luego de la coma)\n",
    "- para valores monetarios, lo mas comun es que se usen numeros con buena precision y que puedan representar decimales sin perdida de exactitud durante las operaciones\n",
    "- para representar distancias, si son astronomicas usariamos un numero con exponente cuyo valor maximo sea posiblemente el mayor, para distancias terrestres podriamos usar algo parecido pero que no tenga tanto alcance"
   ]
  },
  {
   "cell_type": "code",
   "execution_count": null,
   "metadata": {
    "dotnet_interactive": {
     "language": "csharp"
    },
    "vscode": {
     "languageId": "polyglot-notebook"
    }
   },
   "outputs": [],
   "source": [
    "using System.Globalization;\n",
    "\n",
    "//  solo valores positivos hasta 255\n",
    "//\n",
    "byte edad = 55;\n",
    "\n",
    "//  -128...+127\n",
    "//\n",
    "sbyte edad1 = -128;\n",
    "\n",
    "Console.WriteLine($\"Tengo {edad} años\");\n",
    "\n",
    "//  01/01/1970 aproximados\n",
    "//  1.639.872.000 segundos\n",
    "//  Podemos usar separadores _ para agrupar digitos segun nuestra conveniencia\n",
    "//\n",
    "long milisegundosDesde = 1_639_872_000_000;\n",
    "\n",
    "Console.WriteLine($\"Hay {milisegundosDesde:N0} milisegundos desde 01/01/1970\");\n",
    "\n",
    "//  entero largo sin signo --> por ejemplo si siempre contamos tiempos posteriores a la fecha inicial\n",
    "//\n",
    "ulong milisegundosDesde1 = ulong.MaxValue ;\n",
    "\n",
    "Console.WriteLine(CultureInfo.CurrentCulture);\n",
    "\n",
    "Console.WriteLine($\"Hay {milisegundosDesde1:N0} milisegundos desde 01/01/1970\");\n",
    "\n",
    "CultureInfo.CurrentCulture = CultureInfo.GetCultureInfo(\"es-AR\");\n",
    "\n",
    "Console.WriteLine($\"Hay {milisegundosDesde1:N0} milisegundos desde 01/01/1970\");\n",
    "\n",
    "//  https://docs.microsoft.com/en-us/dotnet/standard/base-types/standard-numeric-format-strings\n",
    "//  \n",
    "//  observar que se muestra con el separador de miles que corresponde a la cultura actual!\n",
    "\n",
    "//  como hacemos para representar solo valores positivos enteros o long? o negativos en byte?\n"
   ]
  },
  {
   "cell_type": "markdown",
   "metadata": {},
   "source": [
    "Tenemos 3 tipos de datos con los que podemos representar valores decimales\n",
    "\n",
    "- decimal - 16 bytes (128 bits)\n",
    "- float - 4 bytes (32 bits)\n",
    "- double - 8 bytes (64 bits)\n",
    "\n",
    "Las diferencias son los rangos de valores que podemos almacenar y tambien el tipo de representacion si se hace con exponente o sin exponente\n",
    "\n",
    "Como basicamente los 3 numeros se representan de la misma manera, el compilador no puede entender a que tipo nos estamos refiriendo si escribimos 1.23 por lo tanto asume que es **double**\n",
    "\n",
    "Si queremos forzar a que el valor sea float o decimal tenemos que usar sufijos"
   ]
  },
  {
   "cell_type": "code",
   "execution_count": null,
   "metadata": {
    "dotnet_interactive": {
     "language": "csharp"
    },
    "vscode": {
     "languageId": "polyglot-notebook"
    }
   },
   "outputs": [],
   "source": [
    "decimal pi = 3.141592654m;\n",
    "\n",
    "float pi_float = 3.141592654F;    //  observar que en el resultado el valor ya es inexacto\n",
    "\n",
    "double pi_double = 3.141592654;\n",
    "\n",
    "Console.WriteLine($\"Valor de PI = {pi} {pi_float} {pi_double}\");\n",
    "\n",
    "decimal maximo = decimal.MaxValue;\n",
    "\n",
    "Console.WriteLine($\"{maximo:N0}\");\n",
    "\n",
    "//  79228162514264337593543950335 es el max value de decimal\n",
    "//  a ver como se representa en double\n",
    "//\n",
    "double xx = .79228162514264337593543950335E+28;\n",
    "\n",
    "Console.WriteLine(xx);\n",
    "\n",
    "//  observar que la coma decimal se coloca como corresponde a nuestra cultura\n",
    "\n",
    "float distanciaSol = 299_985 * 8 * 60 ;\n",
    "\n",
    "Console.WriteLine($\"La distancia al sol en kilometros: {distanciaSol:E}\");\n",
    "\n"
   ]
  },
  {
   "cell_type": "markdown",
   "metadata": {},
   "source": [
    "En general de los tipos que representan valores podemos establecer cuales son los maximos y minimos que podemos representar\n",
    "\n",
    "Vamos a probar algunos que representan numeros\n",
    "\n",
    "Tambien veremos que algunas operaciones con double/float dan diferentes resultados que si las hacemos con valores enteros"
   ]
  },
  {
   "cell_type": "code",
   "execution_count": null,
   "metadata": {
    "dotnet_interactive": {
     "language": "csharp"
    },
    "vscode": {
     "languageId": "polyglot-notebook"
    }
   },
   "outputs": [],
   "source": [
    "//  maximo double\n",
    "//\n",
    "//  double pepe = 1.23;\n",
    "//\n",
    "//  ERROR porque MinValue se aplica al TIPO double y no a la INSTANCIA pepe\n",
    "//\n",
    "//  Console.WriteLine($\"El valor maximo para double es {pepe.MinValue}\");\n",
    "\n",
    "Console.WriteLine($\"El valor maximo para double es {double.MinValue}\");\n",
    "Console.WriteLine($\"El valor maximo para double es {double.MaxValue}\");\n",
    "\n",
    "//  probar otros valores y valores especiales\n",
    "//\n",
    "Console.WriteLine($\"Que valor resultara?? {double.MaxValue * double.MaxValue}\");\n",
    "Console.WriteLine($\"Que valor resultara?? {double.PositiveInfinity / double.PositiveInfinity}\");\n",
    "Console.WriteLine($\"Que valor resultara?? {double.MaxValue / 0}\");\n",
    "\n",
    "//  probar valores integrales\n",
    "//  \n",
    "int cero = 0;\n",
    "Console.WriteLine($\"Que valor resultara?? {12 / cero}\");\n"
   ]
  },
  {
   "cell_type": "markdown",
   "metadata": {},
   "source": [
    "<div \n",
    "  style=\"position: relative; padding: 1rem 1rem; margin-bottom: 1rem;\n",
    "         border: 1px solid transparent; border-radius: 0.25rem; color: #055160;\n",
    "         background-color: #cff4fc; border-color: #b6effb; width: 90%\">\n",
    "  La division por cero en el caso de double/float no produce un error ya que la representacion binaria de estos tipos permiten expresar valores especiales como +/- infinito o una operacion indefinida con <strong>NaN</strong>\n",
    "</div>"
   ]
  },
  {
   "cell_type": "markdown",
   "metadata": {},
   "source": [
    "Algunas operaciones con valores enteros pueden ser engañosas\n",
    "\n",
    "Si sumamos dos valores muy grandes que no \"entran\" en la variable que recibe el resultado vamos a tener una fuente segura de errores\n"
   ]
  },
  {
   "cell_type": "code",
   "execution_count": null,
   "metadata": {
    "dotnet_interactive": {
     "language": "csharp"
    },
    "vscode": {
     "languageId": "polyglot-notebook"
    }
   },
   "outputs": [],
   "source": [
    "//  la palabra clave int es un ALIAS en C# de System.Int32 \n",
    "//  pero el tipo REAL que existe en la libreria de NET es System.Int32\n",
    "//\n",
    "int numeroGrande = System.Int32.MaxValue;\n",
    "long resultado = numeroGrande + numeroGrande;\n",
    "\n",
    "Console.WriteLine($\"El resultado es {resultado}\");\n",
    "\n",
    "//  esto se denomina overflow (una operacion que deberia ser positiva da resultados negativos)\n",
    "//  puede ocurrir sin que nos demos cuenta\n",
    "\n",
    "long resultadoChequeado =checked(numeroGrande + numeroGrande);\n",
    "\n",
    "Console.WriteLine($\"El resultado chequeado es {resultadoChequeado}\");\n",
    "\n",
    "checked \n",
    "{ \n",
    "  int resultadoChequeado = unchecked(numeroGrande + numeroGrande) ;\n",
    "\n",
    "  Console.WriteLine($\"El resultado no-chequeado es {resultadoChequeado}\");\n",
    "\n",
    "  long xxx = numeroGrande * 10;\n",
    "\n",
    "  Console.WriteLine($\"El resultado chequeado es {xxx}\");\n",
    "}\n",
    "\n",
    "//  aca vemos una declaracion de variable en un bloque {}\n",
    "//  un bloque implica un limite en la declaracion de variables, por ejemplo\n",
    "//  y en este caso un limite de VALIDACION de overflow\n"
   ]
  },
  {
   "cell_type": "markdown",
   "metadata": {},
   "source": [
    "Hay dos tipos de datos basicos que son **char** y **boolean**. Del segundo hablaremos mas adelante, pero por ahora digamos que una variable boolean solo admite dos valores, true y false. Estos valores en general van a representar el estado final de un proceso o tarea, o cualquier condicion logica como por ejemplo \"el usuario es mayor de edad?\"\n",
    "\n",
    "Respecto a char, representa un unico caracter Unicode y se representa por comillas simples. Podemos representar cualquier caracter del standard, incluso varios de los extendidos como los emojis.\n",
    "\n",
    "El tamaño de **System.Char** es de 16 bits por lo tanto los caracteres que constan de multiples partes no pueden representarse con una unica variable y tenemos que convertirlos desde su representacion original en UTF-32\n",
    "\n",
    "[Unicode characters](https://www.utf8-chartable.de/)\n",
    "\n",
    "[Emojipedia](https://emojipedia.org/)"
   ]
  },
  {
   "cell_type": "code",
   "execution_count": null,
   "metadata": {
    "dotnet_interactive": {
     "language": "csharp"
    },
    "vscode": {
     "languageId": "polyglot-notebook"
    }
   },
   "outputs": [],
   "source": [
    "\n",
    "char letraE = 'E';        //  caracter normal\n",
    "\n",
    "char letraE2 = '\\x45';    //  si es en hexadecimal\n",
    "\n",
    "char letraAleph = '\\u05d0';   //  valor unicode para la letra aleph del alfabeto hebreo\n",
    "\n",
    "char emoji = '\\u26a1';   //  valor unicode para el emoji del rayo\n",
    "\n",
    "\n",
    "Console.WriteLine(letraE);\n",
    "Console.WriteLine(letraE2);\n",
    "Console.WriteLine(letraAleph);\n",
    "Console.WriteLine(emoji);\n",
    "\n",
    "//  hay emojis que no \"entran\" en un char...\n",
    "//  consultar --> emojipedia\n",
    "//\n",
    "Console.WriteLine(char.ConvertFromUtf32 (0x1F7E2));\n",
    "Console.WriteLine(System.Char.ConvertFromUtf32 (0x1F609));\n",
    "Console.WriteLine(System.Char.ConvertFromUtf32 (0x1F47D));\n",
    " "
   ]
  },
  {
   "cell_type": "markdown",
   "metadata": {},
   "source": [
    "Investigamos algunos tamaños de tipos de datos en .NET, el tamaño que nos aparece este dato es en BYTES\n",
    "\n",
    "Podemos ver que el tipo **char** ocupa 2 bytes (16 bits) o sea que podemos representar 65536 caracteres, lo que pareceria suficiente para Unicode (UTF-16) sin embargo hay bloques de codigos Unicode que no pueden representarse con 16 bits y necesitan de 32 (UTF-32) por ejemplo algunos de los emojis que vimos en el ejemplo previo."
   ]
  },
  {
   "cell_type": "code",
   "execution_count": null,
   "metadata": {
    "dotnet_interactive": {
     "language": "csharp"
    },
    "polyglot_notebook": {
     "kernelName": "csharp"
    },
    "vscode": {
     "languageId": "polyglot-notebook"
    }
   },
   "outputs": [],
   "source": [
    "\n",
    "Console.WriteLine($\"{sizeof(long)}\");\n",
    "\n",
    "Console.WriteLine($\"{sizeof(decimal)}\");\n",
    "\n",
    "Console.WriteLine($\"{sizeof(char)}\");\n"
   ]
  },
  {
   "cell_type": "markdown",
   "metadata": {},
   "source": [
    "#### El tipo string\n",
    "\n",
    "Este tipo de datos es uno de los mas simples y complejos a la vez. Utilizarlo es tan sencillo como encerrar un texto en comillas dobles, sin embargo la existencia de una cantidad enorme de grafemas o simbolos de escritura en las diferentes lenguas (culturas) del planeta hacen que el almacenamiento y procesamiento de texto sea muy complejo.\n",
    "\n",
    "Nosotros vamos a centrarnos en el uso de cadenas de texto simples en nuestro idioma español, en .NET no esta el concepto de \"idioma\" (solamente) sino el de \"cultura\" ya que abarca ademas del lenguaje en si, diferentes detalles como por ejemplo los nombres de los meses, el calendario que se utiliza, signos de puntuacion y separadores, moneda, etc.\n",
    "\n",
    "Podemos encontrar algunas referencias interesantes:\n",
    "\n",
    "[Tags de lenguajes usado en internet](https://en.wikipedia.org/wiki/IETF_language_tag)\n",
    "\n",
    "[ISO 3166-1 con los nombres de los paises](https://en.wikipedia.org/wiki/ISO_3166-1)\n",
    "\n",
    "[ISO 15924 codigos para la representacion de nombres de sistemas de escritura](https://en.wikipedia.org/wiki/ISO_15924)\n",
    "\n",
    "[Localization and Internationalization for JS](https://www.localeplanet.com/index.html)\n",
    "\n",
    "[Globalization y CultureInfo en C#](https://learn.microsoft.com/en-us/dotnet/api/system.globalization.cultureinfo.name?view=net-8.0)\n",
    "\n",
    "[Language Tags en Windows](https://learn.microsoft.com/en-us/openspecs/windows_protocols/ms-lcid/a9eac961-e77d-41a6-90a5-ce1a8b0cdb9c)\n",
    "\n",
    "[RFC que define los tags](https://www.rfc-editor.org/rfc/rfc5646.txt)\n"
   ]
  },
  {
   "cell_type": "markdown",
   "metadata": {},
   "source": [
    "##### Comparacion de Cadenas\n",
    "\n",
    "Podemos comparar cadenas mediante el operador `==` sin embargo no siempre vamos a encontrar resultados correctos para nuestro idioma/cultura.\n",
    "\n",
    "En el siguiente ejemplo, vemos que por mas que tengamos seteada la cultura en es-AR la comparacion de dos cadenas que son lexicamente iguales falla, puesto que los ordinales de `a` y  `á` son diferentes.\n",
    "\n",
    "La documentacion de MS nos explica mejor:\n",
    "\n",
    "> The Equality method defines the operation of the equality operator for the String class. It enables \n",
    "> code such as that shown in the Example section. The operator, in turn, calls the static Equals(String, \n",
    "> String) method, which performs an ordinal (case-sensitive and culture-insensitive) comparison.\n",
    "\n",
    "Para que la comparacion sea exitosa, tenemos que usar el metodo de clase `Compare()` y pasar como parametro una serie de opciones que nos indiquen como deberian compararse las cadenas en español. El problema con los acentos se resuelve ajustando la opcion `CompareOptions.IgnoreNonSpace`\n",
    "\n",
    "Volvemos al manual...\n",
    "\n",
    "> IgnoreNonSpace \t2\n",
    "> Indicates that the string comparison must ignore nonspacing combining characters, such as diacritics. \n",
    "> The Unicode Standard defines combining characters as characters that are combined with base characters \n",
    "> to produce a new character. Nonspacing combining characters do not occupy a spacing position by \n",
    "> themselves when rendered.\n",
    "\n",
    "La letra a acentuada es un diacritico que en Unicode ocupa un code-point pero que para nuestro aspecto comparativo deberia identificarse como la a no acentuada.\n",
    "\n",
    "La segunda comparacion vemos que es exitosa, podemos jugar quitando tambien el `IgnoreCase`, ya podemos imaginarnos que ocurriria. Tambien podemos quitar el `IgnoreNonSpace` y veremos que tiene el mismo efecto que usar el operador `==`\n"
   ]
  },
  {
   "cell_type": "code",
   "execution_count": null,
   "metadata": {
    "dotnet_interactive": {
     "language": "csharp"
    },
    "polyglot_notebook": {
     "kernelName": "csharp"
    },
    "vscode": {
     "languageId": "polyglot-notebook"
    }
   },
   "outputs": [],
   "source": [
    "using System.Globalization;\n",
    "\n",
    "string nombre1 = \"abc\";\n",
    "string nombre2 = \"ábc\";\n",
    "var cultura = CultureInfo.GetCultureInfo(\"es-AR\");\n",
    "\n",
    "CultureInfo.CurrentCulture = cultura;\n",
    "\n",
    "if (nombre1 == nombre2)\n",
    "  Console.WriteLine(\"iguales\");\n",
    "else\n",
    "  Console.WriteLine(\"diferentes\");\n",
    "\n",
    "CompareOptions opciones = CompareOptions.IgnoreCase | CompareOptions.IgnoreNonSpace;\n",
    "\n",
    "if (String.Compare(nombre1, nombre2, cultura, opciones) == 0)\n",
    "  Console.WriteLine(\"iguales\");\n",
    "else\n",
    "  Console.WriteLine(\"diferentes\");\n"
   ]
  },
  {
   "cell_type": "markdown",
   "metadata": {},
   "source": [
    "Como un comentario final, en el caso de los acentos no importaria mucho la cultura (si usamos la cultura invariante el ejemplo anterior funciona igual) pero el caso de la ñ ya es otro problema ya que si bien para Unicode es un diacritico, el orden alfabetico SI que cambia puesto que o > ñ > n \n",
    "\n",
    "En el ejemplo que sigue podemos probar diferentes culturas y opciones de ordenamiento.\n",
    "\n",
    "Tener en cuenta que tenemos que tener un criterio de sort que sirva para todas las opciones del idioma elegido, es decir que si bien la ñ no necesitaria el `IgnoreNonSpace` el metodo fallaria si queremos comparar letras acentuadas o con dieresis."
   ]
  },
  {
   "cell_type": "code",
   "execution_count": null,
   "metadata": {
    "dotnet_interactive": {
     "language": "csharp"
    },
    "polyglot_notebook": {
     "kernelName": "csharp"
    },
    "vscode": {
     "languageId": "polyglot-notebook"
    }
   },
   "outputs": [],
   "source": [
    "using System.Globalization;\n",
    "\n",
    "string eñe = \"ñ\";\n",
    "string ene = \"n\";\n",
    "string o = \"o\";\n",
    "var cultura = CultureInfo.GetCultureInfo(\"es\");    //  en\n",
    "\n",
    "CultureInfo.CurrentCulture = cultura;\n",
    "\n",
    "//  CompareOptions opciones = CompareOptions.Ordinal;\n",
    "//  CompareOptions opciones = CompareOptions.StringSort ;\n",
    "CompareOptions opciones = CompareOptions.IgnoreCase | CompareOptions.IgnoreNonSpace;\n",
    "\n",
    "switch (String.Compare(eñe, ene, cultura, opciones))\n",
    "{\n",
    "  case < 0:\n",
    "    Console.WriteLine(\"ñ < n\");\n",
    "    break;\n",
    "\n",
    "  case 0:\n",
    "    Console.WriteLine(\"ñ = n\");\n",
    "    break;\n",
    "\n",
    "  case > 0:\n",
    "    Console.WriteLine(\"ñ > n\");\n",
    "    break;\n",
    "}\n",
    "\n",
    "switch (String.Compare(eñe, o, cultura, opciones))\n",
    "{\n",
    "  case < 0:\n",
    "    Console.WriteLine(\"ñ < o\");\n",
    "    break;\n",
    "\n",
    "  case 0:\n",
    "    Console.WriteLine(\"ñ = o\");\n",
    "    break;\n",
    "\n",
    "  case > 0:\n",
    "    Console.WriteLine(\"ñ > o\");\n",
    "    break;\n",
    "}\n",
    "\n",
    "//  codepoints representando a los caracteres...\n",
    "//\n",
    "Console.WriteLine($\"n = U+{(ushort)ene[0]:X4}\" );\n",
    "Console.WriteLine($\"ñ = U+{(ushort)eñe[0]:X4}\" );\n",
    "Console.WriteLine($\"o = U+{(ushort)o[0]:X4}\" );\n",
    "\n"
   ]
  },
  {
   "cell_type": "markdown",
   "metadata": {},
   "source": [
    "##### Usos del operador new()\n",
    "\n",
    "Podemos inicializar cualquier tipo de variable usando el operador new()\n",
    "\n",
    "Algunos tipos en los que podemos usar literales se nos presentaria un poco extraño usar new() sobre todo cuando en realidad, para los tipos numericos/bool por ejemplo, new() no permite un argumento y simplemente setea el valor por defecto\n",
    "\n",
    "En el caso de `string` podria ser util en los casos donde quiero construir un texto a partir de una repeticion de caracteres como el segundo caso de ejemplo\n",
    "\n",
    "Por ultimo en tipos como `DateTime` o `TimeSpam` tengo que usar el operador new() para setear un default o bien un valor determinado de la instancia como podemos apreciar."
   ]
  },
  {
   "cell_type": "code",
   "execution_count": null,
   "metadata": {
    "dotnet_interactive": {
     "language": "csharp"
    },
    "polyglot_notebook": {
     "kernelName": "csharp"
    },
    "vscode": {
     "languageId": "polyglot-notebook"
    }
   },
   "outputs": [],
   "source": [
    "\n",
    "//  string resultado = new(\"Hola, Mundo!!\"); // mejor usar  = \"Hola, Mundo!!\"; \n",
    "string resultado = new ('=', 50); \n",
    "\n",
    "int x = new();  // = default =0\n",
    "\n",
    "bool f = new(); //  = default = false\n",
    "\n",
    "\n",
    "DateTime fecha = new (2023, 2, 7);\n",
    "var fecha1 = new DateTime(1810, 5, 25);\n",
    "TimeSpan lapso = new TimeSpan(10, 0, 0);  //  10 hs 0 min 0 seg\n",
    "\n",
    "Console.WriteLine(@$\"{resultado}\n",
    "{x} fecha: {fecha:dd/M/yy} fecha1: {fecha1} lapso: {lapso}\");\n"
   ]
  },
  {
   "cell_type": "markdown",
   "metadata": {},
   "source": [
    "El operador new() tambien es necesario para el tipo `Complex` por ejemplo\n",
    "\n",
    "Si bien vemos que podemos crear un complex a partir de un literal numerico, pero este representara solo la parte real! Por otro lado Complex es inmutable por lo que no podemos setear la parte imaginaria despues de haber inicializado la instancia, quedando solamente crear un nuevo valor de numero complejo.\n",
    "\n",
    "El tipo Int128 por ahora no es un tipo \"standard\" en el sentido que no forma parte del universo de tipos simples con literales etc. Es un tipo que existe desde NET 7 y si bien tiene toda la apariencia de un tipo integral comun, es mas parecido a decimal ya que la implementacion es por software (por ahora).\n",
    "\n",
    "La curiosidad del Int128 es que el operador new() espera como parametros dos enteros de 64 bits para \"pegarlos\" y armar el de 128\n",
    "\n",
    "Por ultimo, el tipo `BigInteger` representa un numero enteros cuya representacion es en base 2 (o sea que tendremos una secuencia de bits) y que pueden alcanzar el tamaño disponible de memoria!\n",
    "\n",
    "Podemos crear un BigInteger a partir de cualquier tipo numerico (incluso double o decimal con la consiguiente perdida de precision) podemos parsearlo desde un string y realizar operaciones como con cualquier numero basado en representacion binaria.\n",
    "\n",
    "En este caso usamos `BigInteger.Multiply` para poder incorporar el valor de int128 ya que de otro modo la operacion int128 * int128 perderia bits (queda restringida en 128 bits) y luego hacemos un desplazamiento de bits (4) para ver como realmente ocurre.\n",
    "\n",
    "Tanto Int128 como BigInteger como Complex poseen sus propias versiones estaticas para algunas funciones matematicas. Vemos algunos ejemplos.\n"
   ]
  },
  {
   "cell_type": "code",
   "execution_count": null,
   "metadata": {
    "dotnet_interactive": {
     "language": "csharp"
    },
    "polyglot_notebook": {
     "kernelName": "csharp"
    },
    "vscode": {
     "languageId": "polyglot-notebook"
    }
   },
   "outputs": [],
   "source": [
    "\n",
    "using System.Numerics;\n",
    "\n",
    "Complex c1 = new (12.3, 25.4);\n",
    "Console.WriteLine($\"{c1.Real} + {c1.Imaginary}i\");\n",
    "\n",
    "Complex c2 = 20;\n",
    "Console.WriteLine($\"{c2.Real} + {c2.Imaginary}i\");\n",
    "\n",
    "Complex c3 = c1 * c2;\n",
    "Console.WriteLine($\"{c3.Real} + {c3.Imaginary}i\");\n",
    "\n",
    "Console.WriteLine(Complex.Log10(c3));\n",
    "\n",
    "//\n",
    "//\n",
    "Int128 int128 = new (0x123, 0x456);\n",
    "\n",
    "//  128 bits son 16 bytes, por lo tanto serian 32 caracteres hexadecimales!!\n",
    "//\n",
    "Console.WriteLine($\"{int128:X32}\");\n",
    "Console.WriteLine(Int128.Log2(int128));\n",
    "\n",
    "//\n",
    "//\n",
    "BigInteger grande = BigInteger.Multiply(int128, int128);\n",
    "\n",
    "Console.WriteLine($\"{grande:X64}\");\n",
    "Console.WriteLine($\"{grande << 4:X64}\");\n"
   ]
  }
 ],
 "metadata": {
  "kernelspec": {
   "display_name": ".NET (C#)",
   "language": "C#",
   "name": ".net-csharp"
  },
  "language_info": {
   "name": "C#"
  }
 },
 "nbformat": 4,
 "nbformat_minor": 2
}
