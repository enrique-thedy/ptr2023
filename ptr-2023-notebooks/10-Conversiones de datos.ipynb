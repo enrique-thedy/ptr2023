{
 "cells": [
  {
   "cell_type": "markdown",
   "metadata": {},
   "source": [
    "### Conversiones de Datos\n",
    "\n",
    "Muchas veces vamos a tener que leer datos desde alguna fuente que no tiene el formato de fecha, numerico o del tipo que necesitamos.\n",
    "\n",
    "El caso mas simple es cuando necesitamos ingresar un numero desde teclado. Podemos usar la funcion `Console.ReadLine()` pero la misma nos retorna un string, no un valor numerico. Mas problemas podemos llegar a tener si el valor numerico tiene que ser con decimales o notacion cientifica: el separador de decimales es el punto o la coma? se aceptan numeros negativos? \n",
    "\n",
    "Para estos casos la libreria de clases de .NET dispone de funciones que permiten convertir una cadena en un tipo especifico de dato.\n",
    "\n",
    "Las funciones que vamos a encontrar *en los tipos que admiten ser convertidos desde string*:\n",
    "\n",
    "- Parse\n",
    "- TryParse\n",
    "- ParseExact (tipos de fecha/hora)\n",
    "- TryParseExact (tipos de fecha/hora)\n",
    "\n",
    "Si se encuentran, estas funciones son **metodos de clase**. Esto es razonable porque en realidad queremos obtener una instancia del tipo a partir de un string, y en el caso que fueran metodos de instancia necesitaria tene la instancia previamente creada...seria una paradoja. \n",
    "\n",
    "Dijimos anteriormente que no todos los tipos pueden convertirse desde string. En la libreria de clases .NET vamos a encontrar al menos los siguientes:\n",
    "\n",
    "- todos los tipos numericos enteros (int, long, etc)\n",
    "- los tipos char y bool\n",
    "- los tipos float y double\n",
    "- el tipo decimal\n",
    "- los tipos DateTime, TimeSpan, DateOnly y TimeOnly\n",
    "\n",
    "Hay varios mas, y nosotros podemos definir los nuestros, extendiendo interfaces como `IParseable<T>` o `INumber<T>` \n",
    "\n",
    "Veamos un ejemplo del metodo `Parse`, supongamos que necesitamos ingresar por teclado un numero decimal, el contenido de lo que el usuario ingresa esta en la variable input:\n"
   ]
  },
  {
   "cell_type": "code",
   "execution_count": null,
   "metadata": {
    "dotnet_interactive": {
     "language": "csharp"
    },
    "polyglot_notebook": {
     "kernelName": "csharp"
    },
    "vscode": {
     "languageId": "polyglot-notebook"
    }
   },
   "outputs": [],
   "source": [
    "string input = \"123.456\";\n",
    "\n",
    "decimal valorLeido;\n",
    "\n",
    "valorLeido = decimal.Parse(input);    // OK\n",
    "\n",
    "Console.WriteLine(valorLeido);  \n",
    "\n",
    "input = \"123AB\";\n",
    "\n",
    "valorLeido = decimal.Parse(input);    // Error de formato\n",
    "\n",
    "Console.WriteLine(valorLeido);  \n",
    "\n",
    "input = \"-123.45e+54\";\n",
    "\n",
    "valorLeido = decimal.Parse(input);    // Error de formato\n",
    "\n",
    "Console.WriteLine(valorLeido);  \n",
    "\n"
   ]
  },
  {
   "cell_type": "markdown",
   "metadata": {},
   "source": [
    "Si en cambio usaramos un **double** para el ultimo intento..."
   ]
  },
  {
   "cell_type": "code",
   "execution_count": null,
   "metadata": {
    "dotnet_interactive": {
     "language": "csharp"
    },
    "polyglot_notebook": {
     "kernelName": "csharp"
    },
    "vscode": {
     "languageId": "polyglot-notebook"
    }
   },
   "outputs": [],
   "source": [
    "//  los contenidos de las variables se conservan entre bloques en los Notebooks\n",
    "//  por esa razon no es necesario redefinir input\n",
    "//\n",
    "double valorLeido1 = double.Parse(input);\n",
    "\n",
    "Console.WriteLine(valorLeido1);  \n"
   ]
  },
  {
   "cell_type": "markdown",
   "metadata": {},
   "source": [
    "Pudimos observar que Parse genera una excepcion (error) si se presenta por ejemplo un problema de formato.\n",
    "\n",
    "La manera de evitar esto es usar `TryParse` que retorna como resultado un bool que sera true si la conversion tuvo exito y false si fallo, pero no genera un corte del programa. Lo que tiene como desventaja es que el valor retornado, en caso de exito, se guarda en un parametro **out** declarado dentro de la funcion. Por esa razon debemos ya tener una variable declarada del tipo correcto para poder usar TryParse. Esto ocurria igual con Parse, o sea la variable ya tenia que estar declarada, solo que en este caso el nombre de variable se pasa como argumento a la funcion.\n",
    "\n",
    "Probemos los mismos casos:"
   ]
  },
  {
   "cell_type": "code",
   "execution_count": null,
   "metadata": {
    "dotnet_interactive": {
     "language": "csharp"
    },
    "polyglot_notebook": {
     "kernelName": "csharp"
    },
    "vscode": {
     "languageId": "polyglot-notebook"
    }
   },
   "outputs": [],
   "source": [
    "string input = \"123.456\";\n",
    "\n",
    "decimal valorLeido;\n",
    "\n",
    "if (decimal.TryParse(input, out valorLeido))\n",
    "  Console.WriteLine(valorLeido);  \n",
    "else\n",
    "  Console.WriteLine(\"Error de conversion\");\n",
    "\n",
    "input = \"123AB\";\n",
    "\n",
    "if (decimal.TryParse(input, out valorLeido))\n",
    "  Console.WriteLine(valorLeido);  \n",
    "else\n",
    "  Console.WriteLine(\"Error de conversion\");\n",
    "\n",
    "input = \"-123.45e+54\";\n",
    "\n",
    "if (decimal.TryParse(input, out valorLeido))\n",
    "  Console.WriteLine(valorLeido);  \n",
    "else\n",
    "  Console.WriteLine(\"Error de conversion\");\n",
    "\n",
    "double valorLeido1;\n",
    "\n",
    "if (double.TryParse(input, out valorLeido1))\n",
    "  Console.WriteLine(valorLeido1);  \n",
    "else\n",
    "  Console.WriteLine(\"Error de conversion\");\n",
    "\n"
   ]
  },
  {
   "cell_type": "markdown",
   "metadata": {},
   "source": [
    "##### Parse con varias opciones\n",
    "\n",
    "En los tipos como fechas, los formatos que existen son variadisimos y pueden cambiar en el momento menos esperado. \n",
    "\n",
    "Supongamos que tenemos una cadena con una fecha y supongamos que representa el 31/12/2023, podria ser que alguien ingrese como fecha 31/12 o 31-12-2023 o 31/12/23...etc\n",
    "\n",
    "Usando la funcion `TryParseExact` podemos pasar un arreglo de cadenas posibles de formato para que ls funcion chequee contra todas ellas"
   ]
  },
  {
   "cell_type": "code",
   "execution_count": null,
   "metadata": {
    "dotnet_interactive": {
     "language": "csharp"
    },
    "vscode": {
     "languageId": "polyglot-notebook"
    }
   },
   "outputs": [],
   "source": [
    "\n",
    "//  string fechaTexto = \"31/10/23\";\n",
    "//  string fechaTexto = \"31/10\";\n",
    "string fechaTexto = \"31-07-2023\";\n",
    "\n",
    "DateTime fecha;\n",
    "\n",
    "if (DateTime.TryParseExact(fechaTexto, new[] {\"dd-MM-yyyy\", \"dd/MM\", \"dd/MM/yy\"}, null, \n",
    "   System.Globalization.DateTimeStyles.None, out fecha))\n",
    "  fecha.Display();\n",
    "else\n",
    "  Console.WriteLine(\"Formato invalido\");\n",
    "\n",
    "\n"
   ]
  },
  {
   "cell_type": "markdown",
   "metadata": {},
   "source": [
    "Esto por supuesto funciona pero tengamos en cuenta que se validan estos formatos y no otros que tal vez sean tambien coherentes como por ejemplo el de poner un solo digito en el mes o dia que sean menores a 10.\n",
    "\n",
    "Todas estas opciones deberian chequearse si queremos una aplicacion consistente y robusta"
   ]
  },
  {
   "cell_type": "markdown",
   "metadata": {},
   "source": [
    "##### Conversiones y Culturas\n",
    "\n",
    "Cuando involucramos la cultura en el parsing de cadenas sumamos otro problema mas. Dependiendo la cultura de la UI o del sistema donde estemos ejecutando nuestra aplicacion, las funciones standard de parsing pueden dar errores.\n",
    "\n",
    "Con el `TryParseExact` podemos superar parte de estos problemas, por ejemplo en el caso siguiente la fecha es reconocida para ambas culturas (es-AR u en-US) pero tampoco podemos relajar tanto las validaciones porque podriamos realmente estar referenciando una fecha equivocada, o un error de tipeo.\n",
    "\n",
    "La demo siguiente es para ilustrar el hecho, no significa que deba hacerse!!\n",
    "\n",
    "Los tipos numericos tambien estan influidos por la cultura, en nuestro caso el punto/coma decimal cambia si estamos en es-AR o en en-US. Si tenemos el VS Code en español, entonces en el siguiente ejemplo veremos como un numero \"12.3454\" (en formato US que es muy comun en las salidas de bases de datos) es convertido incorrectamente, mientras que si especificamos dentro de las opciones que use la cultura invariante, funciona OK!\n",
    "\n",
    "Todos los tipos tienen una posibilidad de convertirse a string mediante el metodo ToString(), este metodo es llamado automaticamente cuando usamos por ejemplo Console.WriteLine() pero nada nos impide que podamos invocarlo explicitamente\n",
    "\n",
    "Algunas versiones de ToString() permiten especificar un formato adicional (en general las numericas y tipo fecha)"
   ]
  },
  {
   "cell_type": "code",
   "execution_count": null,
   "metadata": {
    "dotnet_interactive": {
     "language": "csharp"
    },
    "polyglot_notebook": {
     "kernelName": "csharp"
    },
    "vscode": {
     "languageId": "polyglot-notebook"
    }
   },
   "outputs": [],
   "source": [
    "string fechaTexto = \"12-31-2023\"; //  probar 31-12-2023\n",
    "\n",
    "DateTime fecha;\n",
    "\n",
    "System.Globalization.CultureInfo.CurrentCulture.Name.Display();\n",
    "\n",
    "if (DateTime.TryParseExact(fechaTexto, new[] {\"dd-MM-yyyy\", \"MM-dd-yyyy\"}, null, \n",
    "   System.Globalization.DateTimeStyles.None, out fecha))\n",
    "  fecha.Display();\n",
    "else\n",
    "  Console.WriteLine(\"Formato invalido\");\n",
    "\n",
    "string numero = \"12.3454\";\n",
    "\n",
    "Double.TryParse(numero, System.Globalization.NumberStyles.Any, null, out var valor);\n",
    "//  Double.TryParse(numero, System.Globalization.NumberStyles.Any, System.Globalization.CultureInfo.InvariantCulture, out var valor);\n",
    "\n",
    "valor.ToString(\"#.####\").Display();  \n",
    "\n",
    "double pi = Math.PI;\n",
    "\n",
    "pi.ToString(\"#.##\").Display();\n",
    "\n",
    "DateTime.Now.ToString(\"dd MMM yy\").Display();\n"
   ]
  }
 ],
 "metadata": {
  "kernelspec": {
   "display_name": ".NET (C#)",
   "language": "C#",
   "name": ".net-csharp"
  },
  "language_info": {
   "file_extension": ".cs",
   "mimetype": "text/x-csharp",
   "name": "C#",
   "pygments_lexer": "csharp",
   "version": "9.0"
  },
  "orig_nbformat": 4
 },
 "nbformat": 4,
 "nbformat_minor": 2
}
