{
 "cells": [
  {
   "cell_type": "markdown",
   "metadata": {},
   "source": [
    "#### LINQ\n",
    "\n",
    "LINQ significa Language INtegrated Query y es un conjunto de tecnologias basadas en la integracion directamente dentro del lenguaje C# de la capacidad de escribir consultas hacia diferentes fuentes de datos.\n",
    "\n",
    "Con LINQ una consulta es una construccion de \"primera clase\" con type-checking en tiempo de compilacion, intellisense y una estructura que nos remite a la sintaxis de SQL. Los origenes de datos pueden ser tan diversos como un simple array, colecciones de objetos de cualquier tipo, documentos XML o tablas en una base de datos.\n",
    "\n",
    "Cuando se escribe una consulta la parte mas visible de LINQ que esta \"integrada al lenguaje\" es la **query expression**. Estas expresiones son escritas de manera declarativa en lo que se conoce como **query syntax**, como veremos en el siguiente ejemplo simple donde filtramos un array de numeros para obtener los pares y multiplicarlos por 10:"
   ]
  },
  {
   "cell_type": "code",
   "execution_count": null,
   "metadata": {
    "dotnet_interactive": {
     "language": "csharp"
    },
    "polyglot_notebook": {
     "kernelName": "csharp"
    }
   },
   "outputs": [],
   "source": [
    "int[] numeros = Enumerable.Range(-10, 30).ToArray();\n",
    "\n",
    "var pares_x_10 = from num in numeros\n",
    "                    where num % 2 == 0\n",
    "                    select num * 10;\n",
    "\n",
    "foreach (var n in pares_x_10) Console.Write($\"{n} \");"
   ]
  },
  {
   "cell_type": "markdown",
   "metadata": {},
   "source": [
    "Algunas caracteristicas importantes de estas query expressions:\n",
    "\n",
    "- Una query no es ejecutada hasta que se itera (foreach) sobre la variable que usamos para crear la consulta. En nuestro caso seria hasta no hacer el foreach sobre *pares_x_10*\n",
    "- Podemos expresar las consultas tambien usando la sintaxis de metodos (fluent), no hay diferencia de performance entre ambas\n",
    "- Algunas operaciones como Count o Max no pueden expresarse en query syntax y deberian ser realizadas con llamadas a metodos\n",
    "- Las expresiones de query pueden ser compiladas como delegados (colecciones en memoria) o como arboles de expresiones, usando clases en System.Linq.Expressions (colecciones en base de datos)\n",
    "- Las interfaces involucradas son IEnumerable<T> en el primer caso e IQueryable<T> en el segundo\n",
    "\n",
    "En mi opinion y gusto personal, la fluent syntax (o method syntax) es mas clara para entender y si bien perdemos la \"integracion\" del lenguaje, creo que se expresa mejor lo que se esta haciendo, los pasos puntuales de cada etapa de la consulta.\n",
    "\n",
    "Como adicionales, primero en la sintaxis fluent no necesitamos la clausula select final, salvo que estemos proyectando parte del objeto base o lo estemos modificando. Segundo, las operaciones que no disponemos en la query syntax son mas naturales incluirlas en la method syntax, sin mezclar ambas que resultaria confuso."
   ]
  },
  {
   "cell_type": "code",
   "execution_count": null,
   "metadata": {
    "dotnet_interactive": {
     "language": "csharp"
    },
    "polyglot_notebook": {
     "kernelName": "csharp"
    }
   },
   "outputs": [],
   "source": [
    "int[] numeros = Enumerable.Range(-10, 30).ToArray();\n",
    "\n",
    "//  para obtener la cantidad de elementos con query syntax\n",
    "//\n",
    "var cantidad = (from num in numeros\n",
    "                    where num % 2 == 0\n",
    "                    select num * 10).Count();\n",
    "\n",
    "Console.Write($\"Query: {cantidad} \");\n",
    "\n",
    "//  lo mismo en fluent\n",
    "//\n",
    "cantidad = numeros\n",
    "              .Where(n => n % 2 == 0)\n",
    "              .Select(x => x * 10)\n",
    "              .Count();\n",
    "\n",
    "Console.Write($\"Fluent: {cantidad} \");\n"
   ]
  },
  {
   "cell_type": "markdown",
   "metadata": {},
   "source": [
    "Cada uno elegira la que mas le guste!\n",
    "\n",
    "Vamos con un par de ejemplos mas, como aparece en el slide de la presentacion: tenemos 5 nombres, primero seleccionamos aquellos que contienen una \"a\" luego los ordenamos de manera ascendente (el default) respecto a la longitud en caracteres y por ultimo los convertimos a mayusculas.\n",
    "\n",
    "En lugar de usar un array vamos a usar una List<string> (el funcionamiento es similar)"
   ]
  },
  {
   "cell_type": "code",
   "execution_count": null,
   "metadata": {
    "dotnet_interactive": {
     "language": "csharp"
    },
    "polyglot_notebook": {
     "kernelName": "csharp"
    }
   },
   "outputs": [],
   "source": [
    "List<string> nombres = new() {\n",
    "  \"Tom\", \"Dick\", \"Harry\", \"Mary\", \"Jay\"\n",
    "};\n",
    "\n",
    "var resultado = nombres\n",
    "                  .Where(n => n.Contains('a'))\n",
    "                  .OrderBy(p => p.Length)\n",
    "                  .Select(x => x.ToUpper());\n",
    "\n",
    "foreach (var nom in resultado) Console.Write($\"{nom} \");"
   ]
  },
  {
   "cell_type": "markdown",
   "metadata": {},
   "source": [
    "##### Estructura de las consultas\n",
    "\n",
    "En un DB engine las consultas se ejecutan en el orden inverso al que las escribimos, o sea, primero se resuelve el **from** luego el **where** y por ultimo el **select**. El order by es un caso particular ya que no forma parte de la constitucion del conjunto de datos que se obtiene sino mas bien es un agregado para la representacion visual.\n",
    "\n",
    "Recordemos que un conjunto (desde el punto de vista relacional) no tiene un orden establecido, la ubicacion de cada elemento o fila en el set es irrelevante.\n",
    "\n",
    "En LINQ veremos que el **order by** se puede procesar antes o despues del select. Aca es donde vamos a tener que pensar un poco mas y preguntarnos...\n",
    "\n",
    "<div \n",
    "  style=\"position: relative; padding: 1rem 1rem; margin-bottom: 1rem;\n",
    "         border: 1px solid transparent; border-radius: 0.25rem; color: black;\n",
    "         background-color: #ffd966; border-color: black; width: 90%\">\n",
    "  Tiene sentido hacer un order by antes del select, si despues quizas el select nos hace perder el ordenamiento previo?\n",
    "</div>\n",
    "\n",
    "Veamos un ejemplo, usando un tipo **record** para simular una entidad de nuestro modelo"
   ]
  },
  {
   "cell_type": "code",
   "execution_count": null,
   "metadata": {
    "dotnet_interactive": {
     "language": "csharp"
    },
    "polyglot_notebook": {
     "kernelName": "csharp"
    }
   },
   "outputs": [],
   "source": [
    "public record Persona(string Nombre, int Edad, DateTime Nacimiento);\n",
    "\n",
    "Persona[] nombres = new[] {\n",
    "  new Persona(\"Persona 1\", 30, DateTime.Now),\n",
    "  new Persona(\"Person 2\", 50, DateTime.MaxValue),\n",
    "  new Persona(\"Persona 3\", 100, DateTime.MinValue)\n",
    "};\n",
    "  \n",
    "var xx = nombres\n",
    "            .Where(p => p.Nombre.Contains(\"a\"))\n",
    "            .OrderBy(p => p.Nombre)\n",
    "            .Select(p => new {p.Edad, p.Nacimiento}) ;\n",
    "\n",
    "xx.Display();\n",
    "\n",
    "xx = nombres\n",
    "      .Where(p => p.Nombre.Contains(\"a\"))\n",
    "      .Select(p => new {p.Edad, p.Nacimiento})\n",
    "      .OrderBy(anonimo => anonimo.Nacimiento) ;\n",
    "\n",
    "xx.Display();"
   ]
  },
  {
   "cell_type": "markdown",
   "metadata": {},
   "source": [
    "Entonces, tiene sentido ordenar por Nombre si despues perdemos este atributo?\n",
    "\n",
    "O tiene mas sentido aplicar el OrderBy al final como hace cualquier dialecto de SQL y poder ordenar sobre los campos proyectados (los cuales a su vez podrian ser calculados!)\n",
    "\n",
    "Ambas posibilidades estan disponibles en fluent, sin embargo en query siempre debemos colocar al final una clausula select!\n",
    "\n",
    "##### Uso de into en query syntax para continuar la consulta\n",
    "\n",
    "Cuando llegamos a la clausula select, por ejemplo para crear un objeto de tipo anonimo como vimos en los ejemplo previos, pero necesitamos continuar con la consulta, en query syntax no podemos simplemente seguir con un where ya que select es la clausula final.\n",
    "\n",
    "Tenemos que usar entonces una palabra clave especial **into** que tiene como argumento un identificador. Este identificador sera como una segunda variable de secuencia que podemos empezar a usar desde ese momento. En el ejemplo teniamo a *nom* en el inicio y luego tendremos a *anonimo* pero como podemos entender, anonimo ahora tendra los dos campos que nos quedaron luego del select inicial.\n",
    "\n",
    "Con esta segunda variable podemos repetir la clausula where y un nuevo select.\n",
    "\n",
    "Abajo esta la misma sentencia pero expresada como fluent. Como en este caso no tenemos una variable de secuencia que se mantiene en todas las clausulas (las expresiones lambda pueden tener cualquier nombre de argumento) no necesitamos tener un equivalente a *into* puesto el primer select ya retorna un `IEnumerable<tipo anonimo>` y no tenemos que esforzarnos por generar una nueva variable de secuencia.\n",
    "\n",
    "Tambien vemos que al no ser obligatorio terminar la consulta con Select() tambien nos estamos ahorrando este paso."
   ]
  },
  {
   "cell_type": "code",
   "execution_count": null,
   "metadata": {
    "dotnet_interactive": {
     "language": "csharp"
    },
    "polyglot_notebook": {
     "kernelName": "csharp"
    }
   },
   "outputs": [],
   "source": [
    "public record Persona(string Nombre, int Edad, DateTime Nacimiento);\n",
    "\n",
    "Persona[] nombres = new[] {\n",
    "  new Persona(\"Persona 1\", 30, DateTime.Now),\n",
    "  new Persona(\"Person 2\", 50, DateTime.MaxValue),\n",
    "  new Persona(\"Persona 3\", 100, DateTime.MinValue)\n",
    "};\n",
    "  \n",
    "var xx = from nom in nombres\n",
    "            where nom.Nombre.Contains(\"a\")\n",
    "            select new { nom.Edad, nom.Nacimiento }\n",
    "              into anonimo\n",
    "              where anonimo.Edad == 30\n",
    "              select anonimo;\n",
    "\n",
    "xx.Display();\n",
    "\n",
    "var yy = nombres\n",
    "            .Where(x => x.Nombre.Contains('a'))\n",
    "            .Select(p=> new {p.Edad, p.Nacimiento})\n",
    "            .Where(an => an.Edad == 30);\n",
    "\n",
    "yy.Display();"
   ]
  },
  {
   "cell_type": "markdown",
   "metadata": {},
   "source": [
    "##### Como retornar tipos anonimos\n",
    "\n",
    "Los tipos anonimos no pueden usarse como tipo de retporno en una funcion o metodo. Esto es trivial ya que no podemos nombrar un tipo anonimo, el compilador lo infiere analizando las diferentes llamadas a metodos de extension, pero no podemos nunca usarlo como resultado de llamada a un metodo.\n",
    "\n",
    "Para retornar un resultado generado en un metodo Select() tendremos que usar un tipo bien conocido, una class/struct/record o bien una tupla.\n",
    "\n",
    "Vamos a repetir el caso anterior devolviendo primero un record y luego una tupla. Eliminamos el ultimo Where para que por lo menos tengamos dos elementos.\n",
    "\n",
    "Creamos el record con nombres diferentes para que veamos que la construccion del record es posicional."
   ]
  },
  {
   "cell_type": "code",
   "execution_count": null,
   "metadata": {
    "dotnet_interactive": {
     "language": "csharp"
    },
    "polyglot_notebook": {
     "kernelName": "csharp"
    }
   },
   "outputs": [],
   "source": [
    "//  retornamos un IEnumerable del tipo anonimo ad-hoc\n",
    "//\n",
    "public record Persona(string Nombre, int Edad, DateTime Nacimiento);\n",
    "\n",
    "public record TipoAnonimo(int EdadPersona, DateTime FechaNacimiento);\n",
    "\n",
    "GetPersonas().Display();\n",
    "\n",
    "IEnumerable<TipoAnonimo> GetPersonas()\n",
    "{\n",
    "  Persona[] nombres = new[] {\n",
    "    new Persona(\"Persona 1\", 30, DateTime.Now),\n",
    "    new Persona(\"Person 2\", 50, DateTime.MaxValue),\n",
    "    new Persona(\"Persona 3\", 100, DateTime.MinValue)\n",
    "  };\n",
    "\n",
    "  var yy = nombres\n",
    "              .Where(x => x.Nombre.Contains('a'))\n",
    "              .Select(p=> new TipoAnonimo(p.Edad, p.Nacimiento));\n",
    "\n",
    "  return yy;\n",
    "}"
   ]
  },
  {
   "cell_type": "markdown",
   "metadata": {},
   "source": [
    "En el caso de la tupla, vemos que directamente retornamos un \"literal\" de tupla\n",
    "\n",
    "En la declaracion del metodo, el tipo es IEnumerable de la tupla y en este caso podemos renombrar los nombres de cada item de la tupla."
   ]
  },
  {
   "cell_type": "code",
   "execution_count": null,
   "metadata": {
    "dotnet_interactive": {
     "language": "csharp"
    },
    "polyglot_notebook": {
     "kernelName": "csharp"
    }
   },
   "outputs": [],
   "source": [
    "//  retornamos un IEnumerable de una tupla creada para este fin\n",
    "//\n",
    "public record Persona(string Nombre, int Edad, DateTime Nacimiento);\n",
    "\n",
    "\n",
    "foreach (var x in GetPersonas()) Console.WriteLine($\"Años: {x.Años} ; Cumple: {x.Cumple}\");\n",
    "\n",
    "IEnumerable<(int Años, DateTime Cumple)> GetPersonas()\n",
    "{\n",
    "  Persona[] nombres = new[] {\n",
    "    new Persona(\"Persona 1\", 30, DateTime.Now),\n",
    "    new Persona(\"Person 2\", 50, DateTime.MaxValue),\n",
    "    new Persona(\"Persona 3\", 100, DateTime.MinValue)\n",
    "  };\n",
    "\n",
    "  var yy = nombres\n",
    "              .Where(x => x.Nombre.Contains('a'))\n",
    "              .Select(p => (p.Edad, p.Nacimiento));\n",
    "\n",
    "  return yy;\n",
    "}"
   ]
  }
 ],
 "metadata": {
  "kernelspec": {
   "display_name": ".NET (C#)",
   "language": "C#",
   "name": ".net-csharp"
  },
  "language_info": {
   "name": "polyglot-notebook"
  },
  "polyglot_notebook": {
   "kernelInfo": {
    "defaultKernelName": "csharp",
    "items": [
     {
      "aliases": [],
      "languageName": "csharp",
      "name": "csharp"
     }
    ]
   }
  }
 },
 "nbformat": 4,
 "nbformat_minor": 2
}
