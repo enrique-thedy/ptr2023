{
 "cells": [
  {
   "cell_type": "markdown",
   "metadata": {},
   "source": [
    "#### Funciones o Metodos\n",
    "\n",
    "En nuestros cursos vamos a referirnos indistintamente a funciones o metodos.\n",
    "\n",
    "La idea detras de una funcion es agrupar sentencias que realizan una tarea bien determinada, que pueden retornar valores y que pueden recibir datos de entrada.\n",
    "\n",
    "Visto todos los \"puede\" que tenemos en la definicion anterior, es evidente que habra funciones que no tienen argumentos o datos de entrada y otras que no retornan ningun valor como resultado. Estas ultimas se suelen conocer como \"acciones\" porque hacen algo, cambian el estado del sistema de algun modo, pero no nos dejan ningun dato como resultado. En los lenguajes mas antiguos estas funciones se conocian como *procedimientos* o *subrutinas* \n",
    "\n",
    "Para declarar una funcion necesitamos conocer:\n",
    "\n",
    "- el tipo de dato que retorna (o void si no retorna ningun dato)\n",
    "- cantidad y tipos de cada argumento\n",
    "- nombre que vamos a asignarle y que deberia ser significativo respecto a lo que se supone que sea la tarea/objetivo de la funcion\n",
    "\n",
    "El contenido de una funcion (las sentencias) se deben escribir en un bloque, o sea entre { }\n",
    "\n",
    "Todas las variables definidas en ese bloque seran locales a la funcion, el alcance de las mismas termina cuando el bloque de funcion se cierra (la llave \"}\" ). Incluso los argumentos se consideran locales a la funcion.\n",
    "\n",
    "En la siguiente funcion:\n",
    "- **double** es el tipo de dato retornado, significa que antes de terminar la funcion debe entregar al llamador un valor de tipo *double*\n",
    "- RealizarCalculoComplicado es el nombre\n",
    "- valor1, valor2 y valor3 son los *argumentos* o datos de entrada a la funcion\n",
    "- variableLocalBooleana y resultado son *variables locales* \n",
    "\n",
    "```csharp\n",
    "//  \n",
    "//  \n",
    "// \n",
    "double RealizarCalculoComplicado(float valor1, decimal valor2, long valor3)\n",
    "{\n",
    "  bool variableLocalBooleana = false;\n",
    "  double resultado = valor2 * valor3;\n",
    "\n",
    "  //  otras sentencias que realizan el calculo\n",
    "\n",
    "  return resultado;\n",
    "}\n",
    "\n",
    "//  variableLocalBooleana fuera de alcance\n",
    "//  valor1, valor2 y valor3 fuera de alcance\n",
    "```\n",
    "\n",
    "Una de las razones para que una funcion retorne un valor es la de asignar una variable con el resultado de la funcion o bien usarla dentro de una expresion mas compleja. En el siguiente codigo vemos dos ejemplos:\n",
    "\n",
    "```csharp\n",
    "//  el resultado se asigna a una variable\n",
    "//\n",
    "double miCalculo = RealizarCalculoComplicado(1.2F, 24.56M, 123);\n",
    "\n",
    "//  usamos el resultado de la funcion dentro de otra expresion\n",
    "//\n",
    "double otroCalculo = Math.Sqrt(2) * RealizarCalculoComplicado(1.2F, 24.56M, 123);\n",
    "```\n",
    "\n",
    "\n",
    "\n",
    "Una funcion conocida como Factorial que sabemos que se define para numeros enteros positivos como:\n",
    "\n",
    "- si n > 1: n! = n * (n-1)!\n",
    "- si n = 1: n! = 1\n",
    "\n",
    "Podemos aplicar la tecnica de recursividad (cuando una funcion se llama a si misma) para obtener una version basica del factorial de la siguiente manera:"
   ]
  },
  {
   "cell_type": "code",
   "execution_count": null,
   "metadata": {
    "dotnet_interactive": {
     "language": "csharp"
    },
    "vscode": {
     "languageId": "polyglot-notebook"
    }
   },
   "outputs": [],
   "source": [
    "int Factorial(int n)\n",
    "{\n",
    "  if (n == 1)\n",
    "    return 1;\n",
    "\n",
    "  return n * Factorial(n-1);\n",
    "}\n",
    "\n",
    "int x = Factorial(4);\n",
    "\n",
    "x.Display();"
   ]
  },
  {
   "cell_type": "markdown",
   "metadata": {},
   "source": [
    "Vemos que el nombre de la funcion es consistente con lo que hace, asi como los parametros y el tipo de retorno...\n",
    "\n",
    "Una restriccion de las funciones es que solo permite retornar un valor de un tipo determinado. Si bien podriamos declarar una funcion que retorne un array de enteros\n",
    "\n",
    "```csharp\n",
    "  int[] RetornaArray(int size) \n",
    "  {\n",
    "    return new int[size];\n",
    "  }\n",
    "```\n",
    "\n",
    "El array que retorna es considerado como un unico valor, por mas que en teoria es una estructura que puede contener muchos elementos.\n",
    "\n",
    "Las funciones como **TryParse()** retornan un tipo bool para indicar que el parsing fue correcto o no, pero necesitan un parametro adicional de salida que nos devuelva el valor convertido.\n",
    "\n",
    "Para eso (y para otros usos) existen los parametros **out** y **ref** \n",
    "\n",
    "Sabemos que el pasaje de parametros en C# es por VALOR, o sea se copia el valor de la variable que pasamos en una ubicacion local a la que solamente accede la funcion. La funcion no puede en ningun caso modificar el contenido de la variable del llamador.\n",
    "\n",
    "En los casos **out** y **ref** el pasaje es por REFERENCIA, o sea que se copia una REFERENCIA a la variable que el llamador esta pasando. En ese caso la funcion accede a la variable original y puede modificarla!!\n",
    "\n",
    "Ahora vemos algunos casos que nos permiten ejemplificar esta situacion:\n",
    "\n",
    "CASO 1: funcion normal, paso por VALOR, ambas \"x\" son completamente independientes"
   ]
  },
  {
   "cell_type": "code",
   "execution_count": null,
   "metadata": {
    "dotnet_interactive": {
     "language": "csharp"
    },
    "vscode": {
     "languageId": "polyglot-notebook"
    }
   },
   "outputs": [],
   "source": [
    "\n",
    "int x = 10;\n",
    "\n",
    "Nada(x);\n",
    "\n",
    "Console.WriteLine(x);\n",
    "\n",
    "//  el compilador COPIA el valor de x del llamador en una posicion interna de la funcion\n",
    "//  que en el bloque de la misma sera llamada x\n",
    "//\n",
    "void Nada(int x)\n",
    "{\n",
    "  //  x es el argumento, local a Nada()\n",
    "  //\n",
    "  x *= 100; \n",
    "  Console.WriteLine(x);\n",
    "}\n"
   ]
  },
  {
   "cell_type": "markdown",
   "metadata": {},
   "source": [
    "CASO 2: paso por referencia, lo que se copia aca es una REFERENCIA a x del llamador por lo tanto cuando uso la variable local \"a\" lo que estoy haciendo es \"usar\" la variable x original. Puede verse en el resultado que dentro de Nada() terminamos modificando el valor externo de x"
   ]
  },
  {
   "cell_type": "code",
   "execution_count": null,
   "metadata": {
    "dotnet_interactive": {
     "language": "csharp"
    },
    "vscode": {
     "languageId": "polyglot-notebook"
    }
   },
   "outputs": [],
   "source": [
    "int[] x = new [] {0,1,2};\n",
    "\n",
    "x.Display();\n",
    "\n",
    "Nada(ref x);\n",
    "\n",
    "x.Display();\n",
    "\n",
    "void Nada(ref int[] a)\n",
    "{\n",
    "  a.Display();\n",
    "  a = new [] {3, 4, 5};\n",
    "  a[2] *= 100;\n",
    "  a.Display();\n",
    "}\n"
   ]
  },
  {
   "cell_type": "markdown",
   "metadata": {},
   "source": [
    "CASO 3: similar al caso 2 pero vemos que xx externo no esta inicializado.\n",
    "\n",
    "El **out** en CrearArray() determina un \"contrato\" entre llamador y funcion que el compilador obliga a cumplir: la funcion debe inicializar en algun momento el parametro out! Esto equivale a una asignacion pero que en lugar de hacerla con un = comun la hacemos mediante una llamada a funcion.\n",
    "\n",
    "Esta es la manera en la que trabaja TryParse() por ejemplo, y por eso una vez que esta funcion es invocada podemos usar la variable out sin inicializarla de manera tradicional."
   ]
  },
  {
   "cell_type": "code",
   "execution_count": null,
   "metadata": {
    "dotnet_interactive": {
     "language": "csharp"
    },
    "vscode": {
     "languageId": "polyglot-notebook"
    }
   },
   "outputs": [],
   "source": [
    "{\n",
    "  int[] xx;\n",
    "\n",
    "  CrearArray(out xx); // equivaldria a una asignacion xx = ....;\n",
    "\n",
    "  xx.Display();\n",
    "\n",
    "  void CrearArray(out int[] x)\n",
    "  {\n",
    "    x = new [] {3, 4, 5};\n",
    "  }\n",
    "}\n"
   ]
  }
 ],
 "metadata": {
  "kernelspec": {
   "display_name": ".NET (C#)",
   "language": "C#",
   "name": ".net-csharp"
  },
  "language_info": {
   "file_extension": ".cs",
   "mimetype": "text/x-csharp",
   "name": "C#",
   "pygments_lexer": "csharp",
   "version": "9.0"
  },
  "orig_nbformat": 4
 },
 "nbformat": 4,
 "nbformat_minor": 2
}
