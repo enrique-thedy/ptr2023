{
 "cells": [
  {
   "cell_type": "markdown",
   "metadata": {},
   "source": [
    "### Records\n",
    "\n",
    "Una manera de declarar una abstraccion de datos que nos brinda C# es el **record**\n",
    "\n",
    "Asi definimos un nuevo tipo pero en el cual nuestro interes esta centrado en los datos que contiene, y no tanto en funciones o procesos que puedan hacerse con esos datos.\n",
    "\n",
    "Ejemplos simples en los que podriamos usar record son:\n",
    "- un punto en el plano o en el espacio\n",
    "- una coordenada geografica\n",
    "- un domicilio consistente en calle, altura y departamento\n",
    "\n",
    "Se nos pueden ocurrir otros casos.\n",
    "\n",
    "Otra de las caracteristicas de un tipo record es que esta pensado para que los objetos creados a partir del mismo sean **inmutables**, una vez que creamos una instancia de un punto, ese punto no cambia. Una coordenada es similar, si tenemos que modificarla, ya no seria la coordenada de esa ubicacion sino la de otra ubicacion...\n",
    "\n",
    "Con esto queremos decir que la semantica alrededor del record esta pensada en la inmutabilidad y en el dato-centrismo de la estructura. No significa que luego no puedan cambiarse los valores o que podamos tener records con metodos incorporados, *pero ya nos despegariamos del objetivo del record*. Si necesitamos mutabilidad y/o comportamiento, definamos una **class**!!\n",
    "\n",
    "Hay dos maneras de declarar un tipo record\n",
    "\n",
    "- sintaxis posicional\n",
    "- sintaxis standard de propiedades\n",
    "\n",
    "Siempre que podamos, usemos la sintaxis posicional ya que es mas concisa.\n",
    "\n",
    "En el ejemplo siguiente declaramos un recors para las coordenadas geograficas\n",
    "\n"
   ]
  },
  {
   "cell_type": "code",
   "execution_count": null,
   "metadata": {
    "dotnet_interactive": {
     "language": "csharp"
    },
    "polyglot_notebook": {
     "kernelName": "csharp"
    },
    "vscode": {
     "languageId": "polyglot-notebook"
    }
   },
   "outputs": [],
   "source": [
    "public record Coordenada(decimal Latitud, decimal Longitud);\n",
    "\n",
    "var miCasa = new Coordenada(-32.456M, -61.45521M);\n",
    "\n",
    "Console.WriteLine(miCasa);\n",
    "\n",
    "decimal sumarCoordenadas = miCasa.Latitud + miCasa.Longitud;\n",
    "\n",
    "Console.WriteLine(sumarCoordenadas);"
   ]
  },
  {
   "cell_type": "markdown",
   "metadata": {},
   "source": [
    "Es muy interesante ver como se muestra por pantalla el contenido de la variable miCasa!\n",
    "\n",
    "El compilador sobreescribe el metodo ToString() que es el que permite realizar esta impresion para adaptarse a la definicion del record. Observemos que usa los mismos nombres de propiedades que pusimos en la declaracion\n",
    "\n",
    "Esta forma de especificar un constructor en la propia definicion del tipo se denomina **Constructor Primario**, C#12 recien lo permite utilizar en tipos **class**\n",
    "\n",
    "Vemos tambien que se declaran automaticamente propiedades con los mismos nombres que los argumentos!\n",
    "\n",
    "Esta es otra caracteristica interesantisima de los records"
   ]
  },
  {
   "cell_type": "code",
   "execution_count": null,
   "metadata": {
    "dotnet_interactive": {
     "language": "csharp"
    },
    "polyglot_notebook": {
     "kernelName": "csharp"
    },
    "vscode": {
     "languageId": "polyglot-notebook"
    }
   },
   "outputs": [],
   "source": [
    "var otraCasa = new Coordenada(-32.456M, -61.45521M);\n",
    "\n",
    "if (otraCasa == miCasa)\n",
    "  Console.WriteLine(\"Es la misma!!!!\");"
   ]
  },
  {
   "cell_type": "markdown",
   "metadata": {},
   "source": [
    "Otras features de record: la semantica de igualdad, es similar a un tipo valor (como un numero) es decir que compara los contenidos. Por eso ambas variables al tener las mismas coordenadas se toman como iguales\n",
    "\n",
    "#### Inmutabilidad\n",
    "\n",
    "Por definicion, una instancia de record deberia ser inmutable.\n",
    "\n",
    "En los record posicionales esto se cumple ya que las propiedades son init-only y puesto que no tenemos un ctor por defecto, siempre hay que proporcionar un valor para todas las propiedades y es el valor que queda de ahi para siempre.\n",
    "\n",
    "Esto puede ser un poco molesto, pero tengamos en cuenta que el uso es para determinadas estructuras las cuales por su naturaleza van a necesitar todas las propiedades definidas para no dejar un objeto inconsistente.\n",
    "\n",
    "Volvamos a Coordenada: seria imposible inicializar una coordenada sin Longitud...dejarla para setearla en otro instante ya que mientras tanto el objeto seria inconsistente y podria producirnos errores.\n",
    "\n",
    "Lo que si tenemos es una manera de crear instancias de records a partir de otras, cambiando algunos valores.\n",
    "\n",
    "Vamos a probar primero lo que tiene que ver con la inmutabilidad y luego la sintaxis denominada **mutacion no destructiva** con **with**"
   ]
  },
  {
   "cell_type": "code",
   "execution_count": null,
   "metadata": {
    "dotnet_interactive": {
     "language": "csharp"
    },
    "polyglot_notebook": {
     "kernelName": "csharp"
    },
    "vscode": {
     "languageId": "polyglot-notebook"
    }
   },
   "outputs": [],
   "source": [
    "//  descomentar la linea inferior y ver que da error de compilacion\n",
    "//  miCasa.Latitud = -42.567;\n",
    "\n",
    "//  non-destructive mutation: crear un nuevo record a partir de otro:\n",
    "//\n",
    "decimal lngBase = 0;    //  meridiano de Greendwich\n",
    "\n",
    "var coordenadaX = new Coordenada(-32.456M, lngBase);\n",
    "List<Coordenada> coordenadas = new List<Coordenada>();\n",
    "\n",
    "\n",
    "for (int i = 0 ; i < 10 ; i++)\n",
    "  coordenadas.Add(coordenadaX with {Longitud = lngBase + (i * 10)});\n",
    "\n",
    "foreach (var p in coordenadas)\n",
    "  Console.WriteLine(p);"
   ]
  },
  {
   "cell_type": "markdown",
   "metadata": {},
   "source": [
    "Lo que hicimos fue tomar un punto de latitud fija y marcar todos los meridianos hasta 90, creamos nuevos elementos de tipo Coordenada y los guardamos en una lista generica.\n",
    "\n",
    "#### Deconstruccion\n",
    "\n",
    "Muchas veces vamos a necesitar obtener por separado los valores de propiedades de un record.\n",
    "\n",
    "El codigo es sencillo y bastante directo:"
   ]
  },
  {
   "cell_type": "code",
   "execution_count": null,
   "metadata": {
    "dotnet_interactive": {
     "language": "csharp"
    },
    "polyglot_notebook": {
     "kernelName": "csharp"
    },
    "vscode": {
     "languageId": "polyglot-notebook"
    }
   },
   "outputs": [],
   "source": [
    "decimal latitud, longitud;\n",
    "\n",
    "latitud = miCasa.Latitud;\n",
    "longitud = miCasa.Longitud;\n",
    "\n",
    "Console.WriteLine($\"{latitud} {longitud}\");"
   ]
  },
  {
   "cell_type": "markdown",
   "metadata": {},
   "source": [
    "Para un record posicional, el compilador declara un metodo particular llamado **Deconstruct** que tiene tantos parametros **out** como propiedades tenga el ctor primario.\n",
    "\n",
    "Esto nos permite usar una sintaxis mucho mas coqueta para hacer lo mismo que hicimos antes:"
   ]
  },
  {
   "cell_type": "code",
   "execution_count": null,
   "metadata": {
    "dotnet_interactive": {
     "language": "csharp"
    },
    "polyglot_notebook": {
     "kernelName": "csharp"
    },
    "vscode": {
     "languageId": "polyglot-notebook"
    }
   },
   "outputs": [],
   "source": [
    "var (latitud, longitud) = miCasa;\n",
    "\n",
    "Console.WriteLine($\"{latitud} {longitud}\");"
   ]
  },
  {
   "cell_type": "markdown",
   "metadata": {},
   "source": [
    "Bastante mas sencillo!\n",
    "\n",
    "El hecho de agrupar las variables entre parentesis es simplemente para indicar el proceso de deconstruccion, no tiene que ver con las **tuplas**\n",
    "\n",
    "Si por ejemplo tenemos un record con muchas propiedades y solo queremos algunas podemos usar un **discard** que indica al compilador que el valor posicional para esa variable no nos interesa.\n",
    "\n",
    "En el caso de coordenadas es un poco trivial, pero quedaria asi:"
   ]
  },
  {
   "cell_type": "code",
   "execution_count": null,
   "metadata": {
    "dotnet_interactive": {
     "language": "csharp"
    },
    "polyglot_notebook": {
     "kernelName": "csharp"
    },
    "vscode": {
     "languageId": "polyglot-notebook"
    }
   },
   "outputs": [],
   "source": [
    "var (_, longitud) = miCasa;\n",
    "\n",
    "Console.WriteLine($\"{longitud}\");"
   ]
  }
 ],
 "metadata": {
  "language_info": {
   "name": "python"
  }
 },
 "nbformat": 4,
 "nbformat_minor": 2
}
